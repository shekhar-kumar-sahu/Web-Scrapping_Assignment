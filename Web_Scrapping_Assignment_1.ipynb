{
 "cells": [
  {
   "cell_type": "markdown",
   "metadata": {
    "id": "VOcjJA0gAhNU"
   },
   "source": [
    "Import the Library class"
   ]
  },
  {
   "cell_type": "code",
   "execution_count": 1,
   "metadata": {
    "id": "UhEFySdoxu-S"
   },
   "outputs": [],
   "source": [
    "import requests\n",
    "from bs4 import BeautifulSoup\n",
    "import pandas as pd"
   ]
  },
  {
   "cell_type": "markdown",
   "metadata": {
    "id": "IcvFaBUsAfTz"
   },
   "source": [
    "Scrape website with Requests"
   ]
  },
  {
   "cell_type": "code",
   "execution_count": 2,
   "metadata": {
    "id": "0jEVgZzbxzNw"
   },
   "outputs": [],
   "source": [
    "url=\"http://quotes.toscrape.com/page/1/\""
   ]
  },
  {
   "cell_type": "code",
   "execution_count": 3,
   "metadata": {
    "id": "8g7QB03jy7QA"
   },
   "outputs": [],
   "source": [
    "response = requests.get(url)"
   ]
  },
  {
   "cell_type": "code",
   "execution_count": 6,
   "metadata": {
    "id": "97HIpc_P6VNu"
   },
   "outputs": [],
   "source": [
    "response = response.content"
   ]
  },
  {
   "cell_type": "code",
   "execution_count": 7,
   "metadata": {
    "id": "kqJIFxhkzFnN"
   },
   "outputs": [],
   "source": [
    "soup = BeautifulSoup(response,'html.parser')"
   ]
  },
  {
   "cell_type": "markdown",
   "metadata": {
    "id": "3dQ_xvOkBPWK"
   },
   "source": [
    "Extract all quotes"
   ]
  },
  {
   "cell_type": "code",
   "execution_count": 8,
   "metadata": {
    "id": "PUeF0zfizUCX"
   },
   "outputs": [],
   "source": [
    "quote = soup.find('div',attrs={'class':'quoteText'})"
   ]
  },
  {
   "cell_type": "code",
   "execution_count": 9,
   "metadata": {
    "colab": {
     "base_uri": "https://localhost:8080/",
     "height": 35
    },
    "id": "H7DYvQgi08ol",
    "outputId": "055645ad-9ccc-4ef8-d453-e534cfdff256"
   },
   "outputs": [
    {
     "data": {
      "application/vnd.google.colaboratory.intrinsic+json": {
       "type": "string"
      },
      "text/plain": [
       "'“The world as we have created it is a process of our thinking. It cannot be changed without changing our thinking.”'"
      ]
     },
     "execution_count": 9,
     "metadata": {},
     "output_type": "execute_result"
    }
   ],
   "source": [
    "soup.span.text"
   ]
  },
  {
   "cell_type": "code",
   "execution_count": 10,
   "metadata": {
    "colab": {
     "base_uri": "https://localhost:8080/"
    },
    "id": "_ZnBiN1n1OKI",
    "outputId": "42e3ed67-0361-4b6b-b932-50db02ff8839"
   },
   "outputs": [
    {
     "name": "stdout",
     "output_type": "stream",
     "text": [
      "“The world as we have created it is a process of our thinking. It cannot be changed without changing our thinking.”\n",
      "“It is our choices, Harry, that show what we truly are, far more than our abilities.”\n",
      "“There are only two ways to live your life. One is as though nothing is a miracle. The other is as though everything is a miracle.”\n",
      "“The person, be it gentleman or lady, who has not pleasure in a good novel, must be intolerably stupid.”\n",
      "“Imperfection is beauty, madness is genius and it's better to be absolutely ridiculous than absolutely boring.”\n",
      "“Try not to become a man of success. Rather become a man of value.”\n",
      "“It is better to be hated for what you are than to be loved for what you are not.”\n",
      "“I have not failed. I've just found 10,000 ways that won't work.”\n",
      "“A woman is like a tea bag; you never know how strong it is until it's in hot water.”\n",
      "“A day without sunshine is like, you know, night.”\n"
     ]
    }
   ],
   "source": [
    "quotes = soup.find_all('div', {'class': 'quote'})\n",
    "for i in quotes:\n",
    "    print((i.find('span', {'class':'text'})).text)"
   ]
  },
  {
   "cell_type": "markdown",
   "metadata": {
    "id": "Qk64jA6WBZQy"
   },
   "source": [
    "**Extract all authors**"
   ]
  },
  {
   "cell_type": "code",
   "execution_count": 11,
   "metadata": {
    "colab": {
     "base_uri": "https://localhost:8080/"
    },
    "id": "1kFNCS7i61vS",
    "outputId": "5bccb85f-f25f-4746-f710-d37b0586c2f1"
   },
   "outputs": [
    {
     "name": "stdout",
     "output_type": "stream",
     "text": [
      "Albert Einstein\n",
      "J.K. Rowling\n",
      "Albert Einstein\n",
      "Jane Austen\n",
      "Marilyn Monroe\n",
      "Albert Einstein\n",
      "André Gide\n",
      "Thomas A. Edison\n",
      "Eleanor Roosevelt\n",
      "Steve Martin\n"
     ]
    }
   ],
   "source": [
    "for i in soup.findAll(\"div\",{\"class\": \"quote\"}):\n",
    "    print((i.find(\"small\", {\"class\": \"author\"})).text)"
   ]
  },
  {
   "cell_type": "markdown",
   "metadata": {
    "id": "Usvwn-1aBlah"
   },
   "source": [
    "**Extract all tags**"
   ]
  },
  {
   "cell_type": "code",
   "execution_count": 12,
   "metadata": {
    "colab": {
     "base_uri": "https://localhost:8080/"
    },
    "id": "lknFbpt9658b",
    "outputId": "c17cfe5e-12b5-4bf6-8ed1-654aa3d93d2e"
   },
   "outputs": [
    {
     "name": "stdout",
     "output_type": "stream",
     "text": [
      "change,deep-thoughts,thinking,world\n",
      "abilities,choices\n",
      "inspirational,life,live,miracle,miracles\n",
      "aliteracy,books,classic,humor\n",
      "be-yourself,inspirational\n",
      "adulthood,success,value\n",
      "life,love\n",
      "edison,failure,inspirational,paraphrased\n",
      "misattributed-eleanor-roosevelt\n",
      "humor,obvious,simile\n"
     ]
    }
   ],
   "source": [
    "for i in soup.findAll(\"div\",{\"class\": \"tags\"}):\n",
    "    print((i.find(\"meta\"))['content'])"
   ]
  },
  {
   "cell_type": "markdown",
   "metadata": {
    "id": "IeON0I-FB_aC"
   },
   "source": [
    "All quotes, authors and tags\n",
    "\n"
   ]
  },
  {
   "cell_type": "code",
   "execution_count": 13,
   "metadata": {
    "colab": {
     "base_uri": "https://localhost:8080/"
    },
    "id": "xm6ERdiOzlUA",
    "outputId": "924fef90-a276-40bf-d2a2-749904385012"
   },
   "outputs": [
    {
     "name": "stdout",
     "output_type": "stream",
     "text": [
      "“The world as we have created it is a process of our thinking. It cannot be changed without changing our thinking.”\n",
      "Albert Einstein\n",
      "change,deep-thoughts,thinking,world\n",
      "“It is our choices, Harry, that show what we truly are, far more than our abilities.”\n",
      "J.K. Rowling\n",
      "abilities,choices\n",
      "“There are only two ways to live your life. One is as though nothing is a miracle. The other is as though everything is a miracle.”\n",
      "Albert Einstein\n",
      "inspirational,life,live,miracle,miracles\n",
      "“The person, be it gentleman or lady, who has not pleasure in a good novel, must be intolerably stupid.”\n",
      "Jane Austen\n",
      "aliteracy,books,classic,humor\n",
      "“Imperfection is beauty, madness is genius and it's better to be absolutely ridiculous than absolutely boring.”\n",
      "Marilyn Monroe\n",
      "be-yourself,inspirational\n",
      "“Try not to become a man of success. Rather become a man of value.”\n",
      "Albert Einstein\n",
      "adulthood,success,value\n",
      "“It is better to be hated for what you are than to be loved for what you are not.”\n",
      "André Gide\n",
      "life,love\n",
      "“I have not failed. I've just found 10,000 ways that won't work.”\n",
      "Thomas A. Edison\n",
      "edison,failure,inspirational,paraphrased\n",
      "“A woman is like a tea bag; you never know how strong it is until it's in hot water.”\n",
      "Eleanor Roosevelt\n",
      "misattributed-eleanor-roosevelt\n",
      "“A day without sunshine is like, you know, night.”\n",
      "Steve Martin\n",
      "humor,obvious,simile\n"
     ]
    }
   ],
   "source": [
    "for i in soup.findAll(\"div\",{\"class\": \"quote\"}):\n",
    "    print((i.find('span', {'class':'text'})).text)\n",
    "    print((i.find(\"small\", {\"class\": \"author\"})).text)\n",
    "    print((i.find(\"meta\"))['content'])"
   ]
  },
  {
   "cell_type": "markdown",
   "metadata": {
    "id": "da0WlCMoCHFL"
   },
   "source": [
    "**Creating dataframe for all quotes, authors and tags**"
   ]
  },
  {
   "cell_type": "code",
   "execution_count": 22,
   "metadata": {
    "id": "v_yNxlBo2W1x"
   },
   "outputs": [],
   "source": [
    "url = 'http://quotes.toscrape.com/page/'\n",
    "\n",
    "# create empty arrays\n",
    "quotes = []\n",
    "authors = []\n",
    "tags = []\n",
    "\n",
    "# loop over page 1 to 10\n",
    "for pages in range(1,10): \n",
    "        \n",
    "        html = requests.get(url + str(pages))\n",
    "        \n",
    "        soup = BeautifulSoup(html.text)    \n",
    "\n",
    "        for i in soup.findAll(\"div\",{\"class\":\"quote\"}):\n",
    "                 quotes.append((i.find(\"span\",{\"class\":\"text\"})).text)  \n",
    "                 authors.append((i.find(\"small\",{\"class\":\"author\"})).text)    \n",
    "                 tags.append((i.find(\"meta\"))['content'])\n",
    "                 \n",
    "#Create pandas dataframe\n",
    "df = pd.DataFrame({'Quotes':quotes,'Authors':authors,'Tags':tags})"
   ]
  },
  {
   "cell_type": "code",
   "execution_count": 18,
   "metadata": {
    "colab": {
     "base_uri": "https://localhost:8080/",
     "height": 424
    },
    "id": "EuckyqAY2mhj",
    "outputId": "794a25d7-d97a-4a13-bb41-62371c0a123a"
   },
   "outputs": [
    {
     "data": {
      "text/html": [
       "\n",
       "  <div id=\"df-a74cb739-aa90-4712-9640-7ae30b3f04f5\">\n",
       "    <div class=\"colab-df-container\">\n",
       "      <div>\n",
       "<style scoped>\n",
       "    .dataframe tbody tr th:only-of-type {\n",
       "        vertical-align: middle;\n",
       "    }\n",
       "\n",
       "    .dataframe tbody tr th {\n",
       "        vertical-align: top;\n",
       "    }\n",
       "\n",
       "    .dataframe thead th {\n",
       "        text-align: right;\n",
       "    }\n",
       "</style>\n",
       "<table border=\"1\" class=\"dataframe\">\n",
       "  <thead>\n",
       "    <tr style=\"text-align: right;\">\n",
       "      <th></th>\n",
       "      <th>Quotes</th>\n",
       "      <th>Authors</th>\n",
       "      <th>Tags</th>\n",
       "    </tr>\n",
       "  </thead>\n",
       "  <tbody>\n",
       "    <tr>\n",
       "      <th>0</th>\n",
       "      <td>“The world as we have created it is a process ...</td>\n",
       "      <td>C.S. Lewis</td>\n",
       "      <td>christianity,faith,religion,sun</td>\n",
       "    </tr>\n",
       "    <tr>\n",
       "      <th>1</th>\n",
       "      <td>“It is our choices, Harry, that show what we t...</td>\n",
       "      <td>C.S. Lewis</td>\n",
       "      <td>christianity,faith,religion,sun</td>\n",
       "    </tr>\n",
       "    <tr>\n",
       "      <th>2</th>\n",
       "      <td>“There are only two ways to live your life. On...</td>\n",
       "      <td>C.S. Lewis</td>\n",
       "      <td>christianity,faith,religion,sun</td>\n",
       "    </tr>\n",
       "    <tr>\n",
       "      <th>3</th>\n",
       "      <td>“The person, be it gentleman or lady, who has ...</td>\n",
       "      <td>C.S. Lewis</td>\n",
       "      <td>christianity,faith,religion,sun</td>\n",
       "    </tr>\n",
       "    <tr>\n",
       "      <th>4</th>\n",
       "      <td>“Imperfection is beauty, madness is genius and...</td>\n",
       "      <td>C.S. Lewis</td>\n",
       "      <td>christianity,faith,religion,sun</td>\n",
       "    </tr>\n",
       "    <tr>\n",
       "      <th>...</th>\n",
       "      <td>...</td>\n",
       "      <td>...</td>\n",
       "      <td>...</td>\n",
       "    </tr>\n",
       "    <tr>\n",
       "      <th>85</th>\n",
       "      <td>“Some day you will be old enough to start read...</td>\n",
       "      <td>C.S. Lewis</td>\n",
       "      <td>christianity,faith,religion,sun</td>\n",
       "    </tr>\n",
       "    <tr>\n",
       "      <th>86</th>\n",
       "      <td>“We are not necessarily doubting that God will...</td>\n",
       "      <td>C.S. Lewis</td>\n",
       "      <td>christianity,faith,religion,sun</td>\n",
       "    </tr>\n",
       "    <tr>\n",
       "      <th>87</th>\n",
       "      <td>“The fear of death follows from the fear of li...</td>\n",
       "      <td>C.S. Lewis</td>\n",
       "      <td>christianity,faith,religion,sun</td>\n",
       "    </tr>\n",
       "    <tr>\n",
       "      <th>88</th>\n",
       "      <td>“A lie can travel half way around the world wh...</td>\n",
       "      <td>C.S. Lewis</td>\n",
       "      <td>christianity,faith,religion,sun</td>\n",
       "    </tr>\n",
       "    <tr>\n",
       "      <th>89</th>\n",
       "      <td>“I believe in Christianity as I believe that t...</td>\n",
       "      <td>C.S. Lewis</td>\n",
       "      <td>christianity,faith,religion,sun</td>\n",
       "    </tr>\n",
       "  </tbody>\n",
       "</table>\n",
       "<p>90 rows × 3 columns</p>\n",
       "</div>\n",
       "      <button class=\"colab-df-convert\" onclick=\"convertToInteractive('df-a74cb739-aa90-4712-9640-7ae30b3f04f5')\"\n",
       "              title=\"Convert this dataframe to an interactive table.\"\n",
       "              style=\"display:none;\">\n",
       "        \n",
       "  <svg xmlns=\"http://www.w3.org/2000/svg\" height=\"24px\"viewBox=\"0 0 24 24\"\n",
       "       width=\"24px\">\n",
       "    <path d=\"M0 0h24v24H0V0z\" fill=\"none\"/>\n",
       "    <path d=\"M18.56 5.44l.94 2.06.94-2.06 2.06-.94-2.06-.94-.94-2.06-.94 2.06-2.06.94zm-11 1L8.5 8.5l.94-2.06 2.06-.94-2.06-.94L8.5 2.5l-.94 2.06-2.06.94zm10 10l.94 2.06.94-2.06 2.06-.94-2.06-.94-.94-2.06-.94 2.06-2.06.94z\"/><path d=\"M17.41 7.96l-1.37-1.37c-.4-.4-.92-.59-1.43-.59-.52 0-1.04.2-1.43.59L10.3 9.45l-7.72 7.72c-.78.78-.78 2.05 0 2.83L4 21.41c.39.39.9.59 1.41.59.51 0 1.02-.2 1.41-.59l7.78-7.78 2.81-2.81c.8-.78.8-2.07 0-2.86zM5.41 20L4 18.59l7.72-7.72 1.47 1.35L5.41 20z\"/>\n",
       "  </svg>\n",
       "      </button>\n",
       "      \n",
       "  <style>\n",
       "    .colab-df-container {\n",
       "      display:flex;\n",
       "      flex-wrap:wrap;\n",
       "      gap: 12px;\n",
       "    }\n",
       "\n",
       "    .colab-df-convert {\n",
       "      background-color: #E8F0FE;\n",
       "      border: none;\n",
       "      border-radius: 50%;\n",
       "      cursor: pointer;\n",
       "      display: none;\n",
       "      fill: #1967D2;\n",
       "      height: 32px;\n",
       "      padding: 0 0 0 0;\n",
       "      width: 32px;\n",
       "    }\n",
       "\n",
       "    .colab-df-convert:hover {\n",
       "      background-color: #E2EBFA;\n",
       "      box-shadow: 0px 1px 2px rgba(60, 64, 67, 0.3), 0px 1px 3px 1px rgba(60, 64, 67, 0.15);\n",
       "      fill: #174EA6;\n",
       "    }\n",
       "\n",
       "    [theme=dark] .colab-df-convert {\n",
       "      background-color: #3B4455;\n",
       "      fill: #D2E3FC;\n",
       "    }\n",
       "\n",
       "    [theme=dark] .colab-df-convert:hover {\n",
       "      background-color: #434B5C;\n",
       "      box-shadow: 0px 1px 3px 1px rgba(0, 0, 0, 0.15);\n",
       "      filter: drop-shadow(0px 1px 2px rgba(0, 0, 0, 0.3));\n",
       "      fill: #FFFFFF;\n",
       "    }\n",
       "  </style>\n",
       "\n",
       "      <script>\n",
       "        const buttonEl =\n",
       "          document.querySelector('#df-a74cb739-aa90-4712-9640-7ae30b3f04f5 button.colab-df-convert');\n",
       "        buttonEl.style.display =\n",
       "          google.colab.kernel.accessAllowed ? 'block' : 'none';\n",
       "\n",
       "        async function convertToInteractive(key) {\n",
       "          const element = document.querySelector('#df-a74cb739-aa90-4712-9640-7ae30b3f04f5');\n",
       "          const dataTable =\n",
       "            await google.colab.kernel.invokeFunction('convertToInteractive',\n",
       "                                                     [key], {});\n",
       "          if (!dataTable) return;\n",
       "\n",
       "          const docLinkHtml = 'Like what you see? Visit the ' +\n",
       "            '<a target=\"_blank\" href=https://colab.research.google.com/notebooks/data_table.ipynb>data table notebook</a>'\n",
       "            + ' to learn more about interactive tables.';\n",
       "          element.innerHTML = '';\n",
       "          dataTable['output_type'] = 'display_data';\n",
       "          await google.colab.output.renderOutput(dataTable, element);\n",
       "          const docLink = document.createElement('div');\n",
       "          docLink.innerHTML = docLinkHtml;\n",
       "          element.appendChild(docLink);\n",
       "        }\n",
       "      </script>\n",
       "    </div>\n",
       "  </div>\n",
       "  "
      ],
      "text/plain": [
       "                                               Quotes     Authors  \\\n",
       "0   “The world as we have created it is a process ...  C.S. Lewis   \n",
       "1   “It is our choices, Harry, that show what we t...  C.S. Lewis   \n",
       "2   “There are only two ways to live your life. On...  C.S. Lewis   \n",
       "3   “The person, be it gentleman or lady, who has ...  C.S. Lewis   \n",
       "4   “Imperfection is beauty, madness is genius and...  C.S. Lewis   \n",
       "..                                                ...         ...   \n",
       "85  “Some day you will be old enough to start read...  C.S. Lewis   \n",
       "86  “We are not necessarily doubting that God will...  C.S. Lewis   \n",
       "87  “The fear of death follows from the fear of li...  C.S. Lewis   \n",
       "88  “A lie can travel half way around the world wh...  C.S. Lewis   \n",
       "89  “I believe in Christianity as I believe that t...  C.S. Lewis   \n",
       "\n",
       "                               Tags  \n",
       "0   christianity,faith,religion,sun  \n",
       "1   christianity,faith,religion,sun  \n",
       "2   christianity,faith,religion,sun  \n",
       "3   christianity,faith,religion,sun  \n",
       "4   christianity,faith,religion,sun  \n",
       "..                              ...  \n",
       "85  christianity,faith,religion,sun  \n",
       "86  christianity,faith,religion,sun  \n",
       "87  christianity,faith,religion,sun  \n",
       "88  christianity,faith,religion,sun  \n",
       "89  christianity,faith,religion,sun  \n",
       "\n",
       "[90 rows x 3 columns]"
      ]
     },
     "execution_count": 18,
     "metadata": {},
     "output_type": "execute_result"
    }
   ],
   "source": [
    "df"
   ]
  },
  {
   "cell_type": "markdown",
   "metadata": {
    "id": "5z1H_hHGCcGe"
   },
   "source": [
    "Creating CSV file"
   ]
  },
  {
   "cell_type": "code",
   "execution_count": 21,
   "metadata": {
    "id": "wXvCbe3276D9"
   },
   "outputs": [],
   "source": [
    "df.to_csv('Quotes_to_Scrape.csv')"
   ]
  }
 ],
 "metadata": {
  "colab": {
   "provenance": []
  },
  "kernelspec": {
   "display_name": "Python 3 (ipykernel)",
   "language": "python",
   "name": "python3"
  },
  "language_info": {
   "codemirror_mode": {
    "name": "ipython",
    "version": 3
   },
   "file_extension": ".py",
   "mimetype": "text/x-python",
   "name": "python",
   "nbconvert_exporter": "python",
   "pygments_lexer": "ipython3",
   "version": "3.9.12"
  }
 },
 "nbformat": 4,
 "nbformat_minor": 1
}
